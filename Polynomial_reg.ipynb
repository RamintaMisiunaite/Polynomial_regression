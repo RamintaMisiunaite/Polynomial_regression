{
  "nbformat": 4,
  "nbformat_minor": 0,
  "metadata": {
    "colab": {
      "provenance": []
    },
    "kernelspec": {
      "name": "python3",
      "display_name": "Python 3"
    },
    "language_info": {
      "name": "python"
    }
  },
  "cells": [
    {
      "cell_type": "markdown",
      "source": [
        "## Is there a relationship between water salinity & water temperature? Can you predict the water temperature based on salinity?"
      ],
      "metadata": {
        "id": "VZn6E8lbKI7D"
      }
    },
    {
      "cell_type": "code",
      "execution_count": 1,
      "metadata": {
        "id": "fhGsOEorfKUX"
      },
      "outputs": [],
      "source": [
        "import pandas as pd\n",
        "import numpy as np\n",
        "import matplotlib.pyplot as plt\n",
        "import seaborn as sns\n",
        "from pandas.io.json import json_normalize\n",
        "from sklearn.model_selection import train_test_split\n",
        "from sklearn import metrics"
      ]
    },
    {
      "cell_type": "code",
      "source": [
        "\n",
        "df = pd.read_csv(\"bottle.csv\")\n",
        "df =  df[df[['T_degC', 'Salnty']].notnull().all(1)]\n",
        "df.plot(y='T_degC', x='Salnty',style='o')\n",
        "x = pd.DataFrame(df['Salnty'])\n",
        "y = pd.DataFrame(df['T_degC'])"
      ],
      "metadata": {
        "colab": {
          "base_uri": "https://localhost:8080/",
          "height": 334
        },
        "id": "3iCViPABfdyh",
        "outputId": "8d240f00-ba3e-4f63-cd04-fd6796d5e693"
      },
      "execution_count": 2,
      "outputs": [
        {
          "output_type": "stream",
          "name": "stderr",
          "text": [
            "/usr/local/lib/python3.7/dist-packages/IPython/core/interactiveshell.py:3326: DtypeWarning: Columns (47,73) have mixed types.Specify dtype option on import or set low_memory=False.\n",
            "  exec(code_obj, self.user_global_ns, self.user_ns)\n"
          ]
        },
        {
          "output_type": "display_data",
          "data": {
            "text/plain": [
              "<Figure size 432x288 with 1 Axes>"
            ],
            "image/png": "[encoded data removed]"
          },
          "metadata": {
            "needs_background": "light"
          }
        }
      ]
    },
    {
      "cell_type": "code",
      "source": [
        "\n",
        "x_train, x_test, y_train, y_test = train_test_split(x, y, test_size = 0.2)"
      ],
      "metadata": {
        "id": "kh1RaVsNf0an"
      },
      "execution_count": 3,
      "outputs": []
    },
    {
      "cell_type": "code",
      "source": [
        "from sklearn.preprocessing import StandardScaler \n",
        "from sklearn.decomposition import PCA \n",
        "from sklearn.linear_model import LinearRegression\n",
        "# Standardize the data\n",
        "scaler = StandardScaler()\n",
        "# Fit on training set only.\n",
        "scaler.fit(x_train)\n",
        "# Transform both the training set and the test set.\n",
        "X_train = scaler.transform(x_train)\n",
        "X_test = scaler.transform(x_test)\n",
        "\n",
        "\n",
        "model = LinearRegression()\n",
        "model.fit(X_train, y_train)\n",
        "pred = model.predict(X_test)\n",
        "plt.scatter(y_test, pred)\n",
        "\n",
        "print(metrics.mean_absolute_error(y_test, pred))\n",
        "print(metrics.mean_squared_error(y_test, pred))\n",
        "print(np.sqrt(metrics.mean_squared_error(y_test, pred)))\n",
        "\n",
        "# The coefficient of determination: 1 is perfect prediction\n",
        "print(\"Coefficient of determination: %.2f\" % metrics.r2_score(y_test, pred))\n"
      ],
      "metadata": {
        "colab": {
          "base_uri": "https://localhost:8080/",
          "height": 334
        },
        "id": "NIxRfFzEf8wW",
        "outputId": "b6b21756-5f4e-4940-d0bf-f19d016430c7"
      },
      "execution_count": 4,
      "outputs": [
        {
          "output_type": "stream",
          "name": "stdout",
          "text": [
            "2.666903770734468\n",
            "13.146680074948216\n",
            "3.625835086562572\n",
            "Coefficient of determination: 0.26\n"
          ]
        },
        {
          "output_type": "display_data",
          "data": {
            "text/plain": [
              "<Figure size 432x288 with 1 Axes>"
            ],
            "image/png": "[encoded data removed]"
          },
          "metadata": {
            "needs_background": "light"
          }
        }
      ]
    },
    {
      "cell_type": "markdown",
      "source": [
        "It seems there's no significant relationship between the water temperature and salinity. One cannot be predicted based on another. "
      ],
      "metadata": {
        "id": "pxlIu-jwf0If"
      }
    },
    {
      "cell_type": "code",
      "source": [
        "df = pd.read_csv(\"bottle.csv\")\n",
        "df =  df[df[['T_degC', 'Depthm']].notnull().all(1)]\n",
        "df.plot(y='T_degC', x='Depthm',style='o')\n",
        "x = pd.DataFrame(df['Depthm'])\n",
        "y = pd.DataFrame(df['T_degC'])\n",
        "\n",
        "x_train, x_test, y_train, y_test = train_test_split(x, y, test_size = 0.2)"
      ],
      "metadata": {
        "colab": {
          "base_uri": "https://localhost:8080/",
          "height": 334
        },
        "id": "cIIVBSyGg8pl",
        "outputId": "9938ef83-7368-42b0-f135-6674c4f279b7"
      },
      "execution_count": 5,
      "outputs": [
        {
          "output_type": "stream",
          "name": "stderr",
          "text": [
            "/usr/local/lib/python3.7/dist-packages/IPython/core/interactiveshell.py:3326: DtypeWarning: Columns (47,73) have mixed types.Specify dtype option on import or set low_memory=False.\n",
            "  exec(code_obj, self.user_global_ns, self.user_ns)\n"
          ]
        },
        {
          "output_type": "display_data",
          "data": {
            "text/plain": [
              "<Figure size 432x288 with 1 Axes>"
            ],
            "image/png": "[encoded data removed]"
          },
          "metadata": {
            "needs_background": "light"
          }
        }
      ]
    },
    {
      "cell_type": "code",
      "source": [
        "from sklearn.linear_model import LogisticRegression\n",
        "# Standardize the data\n",
        "scaler = StandardScaler()\n",
        "# Fit on training set only.\n",
        "scaler.fit(x_train)\n",
        "# Transform both the training set and the test set.\n",
        "X_train = scaler.transform(x_train)\n",
        "X_test = scaler.transform(x_test)\n",
        "\n",
        "\n",
        "from sklearn.preprocessing import PolynomialFeatures\n",
        "  \n",
        "poly = PolynomialFeatures(degree = 4)\n",
        "X_poly = poly.fit_transform(x)\n",
        "poly.fit(X_poly, y)\n",
        "lin2 = LinearRegression()\n",
        "lin2.fit(X_poly, y)\n",
        "pred = lin2.predict(X_poly)\n",
        "\n",
        "print(\"MAE: \", metrics.mean_absolute_error(y, pred))\n",
        "print(\"MSE: \", metrics.mean_squared_error(y, pred))\n",
        "print(\"MSRE: \",np.sqrt(metrics.mean_squared_error(y, pred)))\n",
        "\n",
        "# The coefficient of determination: 1 is perfect prediction\n",
        "print(\"Coefficient of determination: %.2f\" % metrics.r2_score(y, pred))"
      ],
      "metadata": {
        "colab": {
          "base_uri": "https://localhost:8080/"
        },
        "id": "QqJLXX3WhqVY",
        "outputId": "c4bc28e1-8517-4162-dfef-cf7719085337"
      },
      "execution_count": 6,
      "outputs": [
        {
          "output_type": "stream",
          "name": "stdout",
          "text": [
            "MAE:  1.6059560815435994\n",
            "MSE:  4.65961915939915\n",
            "MSRE:  2.1586151021891675\n",
            "Coefficient of determination: 0.74\n"
          ]
        }
      ]
    }
  ]
}